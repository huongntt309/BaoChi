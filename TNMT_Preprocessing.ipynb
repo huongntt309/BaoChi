{
  "cells": [
    {
      "cell_type": "markdown",
      "metadata": {
        "id": "TOvht7vqQGdR"
      },
      "source": []
    },
    {
      "cell_type": "markdown",
      "metadata": {
        "id": "FPSqz1wzTXvz"
      },
      "source": [
        "## 1. Importing the required libraries"
      ]
    },
    {
      "cell_type": "code",
      "execution_count": 42,
      "metadata": {
        "colab": {
          "base_uri": "https://localhost:8080/"
        },
        "id": "AZ1SFWC3mFM1",
        "outputId": "d65903d5-82f7-4a98-f7a4-583f8681bfb6"
      },
      "outputs": [
        {
          "output_type": "stream",
          "name": "stdout",
          "text": [
            "Drive already mounted at /content/drive; to attempt to forcibly remount, call drive.mount(\"/content/drive\", force_remount=True).\n"
          ]
        }
      ],
      "source": [
        "from google.colab import drive\n",
        "drive.mount('/content/drive')"
      ]
    },
    {
      "cell_type": "code",
      "execution_count": 43,
      "metadata": {
        "id": "dHPSzEB1miFi"
      },
      "outputs": [],
      "source": [
        "path_output_folder = '/content/....'"
      ]
    },
    {
      "cell_type": "code",
      "execution_count": 44,
      "metadata": {
        "id": "GGyDovL2QDLa"
      },
      "outputs": [],
      "source": [
        "import pandas as pd\n",
        "import numpy as np\n",
        "import requests\n",
        "from bs4 import BeautifulSoup"
      ]
    },
    {
      "cell_type": "markdown",
      "metadata": {
        "id": "Ye6eXuohTd5Q"
      },
      "source": [
        "\n",
        "\n",
        "---\n",
        "\n"
      ]
    },
    {
      "cell_type": "markdown",
      "metadata": {
        "id": "8Y3Z2DbKTfJt"
      },
      "source": [
        "## 2. Loading the data into the data frame."
      ]
    },
    {
      "cell_type": "code",
      "execution_count": 45,
      "metadata": {
        "colab": {
          "base_uri": "https://localhost:8080/"
        },
        "id": "xLIeSyDQ5J_-",
        "outputId": "f4ce7279-89e1-4783-e2c0-cfee894a2ae5"
      },
      "outputs": [
        {
          "output_type": "stream",
          "name": "stdout",
          "text": [
            "fatal: destination path 'BaoChi' already exists and is not an empty directory.\n"
          ]
        }
      ],
      "source": [
        "!git clone https://github.com/huongntt309/BaoChi.git"
      ]
    },
    {
      "cell_type": "code",
      "execution_count": 46,
      "metadata": {
        "colab": {
          "base_uri": "https://localhost:8080/",
          "height": 831
        },
        "id": "0oVZnezwQ159",
        "outputId": "e2a165f5-cb0e-4d27-9251-b2bad4b887db"
      },
      "outputs": [
        {
          "output_type": "execute_result",
          "data": {
            "text/plain": [
              "    Thoigian    Linh_vuc           Chuyen_muc   Dia_diem  Muc_do  \\\n",
              "0  1/12/2023  KTTV -BĐKH  chính sách, quản lý  toàn quốc       4   \n",
              "1  1/12/2023  KTTV -BĐKH  chính sách, quản lý  toàn quốc       4   \n",
              "2  1/12/2023  KTTV -BĐKH  chính sách, quản lý  toàn quốc       4   \n",
              "3  1/12/2023  KTTV -BĐKH  chính sách, quản lý  toàn quốc       4   \n",
              "4  1/12/2023  KTTV -BĐKH  chính sách, quản lý  toàn quốc       4   \n",
              "\n",
              "                                           Nguon_tin  \\\n",
              "0  Chính phủ, Tiền phong, Tin tức, Nhân Dân, Lao ...   \n",
              "1                                                VOV   \n",
              "2                                       Một Thế giới   \n",
              "3                                        VietNamPlus   \n",
              "4                                                VOV   \n",
              "\n",
              "                                             Tin_bai  \\\n",
              "0  Thủ tướng Phạm Minh Chính tới Dubai, bắt đầu t...   \n",
              "1  Việt Nam kỳ vọng COP28 sẽ đạt những bước tiến ...   \n",
              "2  Việt Nam tham gia hàng loạt sáng kiến ứng phó ...   \n",
              "3  Tham dự COP28: Việt Nam quyết tâm thúc đẩy giả...   \n",
              "4  Hội nghị COP28: Khẳng định cam kết ứng phó với...   \n",
              "\n",
              "                                        Link_tin_bai  \\\n",
              "0  https://baochinhphu.vn/thu-tuong-pham-minh-chi...   \n",
              "1  https://vov.vn/xa-hoi/viet-nam-ky-vong-cop28-s...   \n",
              "2  https://1thegioi.vn/viet-nam-tham-gia-hang-loa...   \n",
              "3  https://www.vietnamplus.vn/tham-du-cop28-viet-...   \n",
              "4  https://vov.vn/xa-hoi/hoi-nghi-cop28-khang-din...   \n",
              "\n",
              "                                    Tom_tat_noi_dung  \n",
              "0  Sau khi kết thúc tốt đẹp chuyến thăm chính thứ...  \n",
              "1                 Thứ trưởng Lê Công Thành cho biết.  \n",
              "2  Thứ trưởng Bộ Tài nguyên và Môi trường Lê Công...  \n",
              "3  Trao đổi với báo chí, Phó Cục trưởng Cục Biến ...  \n",
              "4  theo Bộ Tài nguyên và Môi trường, COP 28 là Hộ...  "
            ],
            "text/html": [
              "\n",
              "  <div id=\"df-833d3302-0208-4911-9a16-61011a0361cd\" class=\"colab-df-container\">\n",
              "    <div>\n",
              "<style scoped>\n",
              "    .dataframe tbody tr th:only-of-type {\n",
              "        vertical-align: middle;\n",
              "    }\n",
              "\n",
              "    .dataframe tbody tr th {\n",
              "        vertical-align: top;\n",
              "    }\n",
              "\n",
              "    .dataframe thead th {\n",
              "        text-align: right;\n",
              "    }\n",
              "</style>\n",
              "<table border=\"1\" class=\"dataframe\">\n",
              "  <thead>\n",
              "    <tr style=\"text-align: right;\">\n",
              "      <th></th>\n",
              "      <th>Thoigian</th>\n",
              "      <th>Linh_vuc</th>\n",
              "      <th>Chuyen_muc</th>\n",
              "      <th>Dia_diem</th>\n",
              "      <th>Muc_do</th>\n",
              "      <th>Nguon_tin</th>\n",
              "      <th>Tin_bai</th>\n",
              "      <th>Link_tin_bai</th>\n",
              "      <th>Tom_tat_noi_dung</th>\n",
              "    </tr>\n",
              "  </thead>\n",
              "  <tbody>\n",
              "    <tr>\n",
              "      <th>0</th>\n",
              "      <td>1/12/2023</td>\n",
              "      <td>KTTV -BĐKH</td>\n",
              "      <td>chính sách, quản lý</td>\n",
              "      <td>toàn quốc</td>\n",
              "      <td>4</td>\n",
              "      <td>Chính phủ, Tiền phong, Tin tức, Nhân Dân, Lao ...</td>\n",
              "      <td>Thủ tướng Phạm Minh Chính tới Dubai, bắt đầu t...</td>\n",
              "      <td>https://baochinhphu.vn/thu-tuong-pham-minh-chi...</td>\n",
              "      <td>Sau khi kết thúc tốt đẹp chuyến thăm chính thứ...</td>\n",
              "    </tr>\n",
              "    <tr>\n",
              "      <th>1</th>\n",
              "      <td>1/12/2023</td>\n",
              "      <td>KTTV -BĐKH</td>\n",
              "      <td>chính sách, quản lý</td>\n",
              "      <td>toàn quốc</td>\n",
              "      <td>4</td>\n",
              "      <td>VOV</td>\n",
              "      <td>Việt Nam kỳ vọng COP28 sẽ đạt những bước tiến ...</td>\n",
              "      <td>https://vov.vn/xa-hoi/viet-nam-ky-vong-cop28-s...</td>\n",
              "      <td>Thứ trưởng Lê Công Thành cho biết.</td>\n",
              "    </tr>\n",
              "    <tr>\n",
              "      <th>2</th>\n",
              "      <td>1/12/2023</td>\n",
              "      <td>KTTV -BĐKH</td>\n",
              "      <td>chính sách, quản lý</td>\n",
              "      <td>toàn quốc</td>\n",
              "      <td>4</td>\n",
              "      <td>Một Thế giới</td>\n",
              "      <td>Việt Nam tham gia hàng loạt sáng kiến ứng phó ...</td>\n",
              "      <td>https://1thegioi.vn/viet-nam-tham-gia-hang-loa...</td>\n",
              "      <td>Thứ trưởng Bộ Tài nguyên và Môi trường Lê Công...</td>\n",
              "    </tr>\n",
              "    <tr>\n",
              "      <th>3</th>\n",
              "      <td>1/12/2023</td>\n",
              "      <td>KTTV -BĐKH</td>\n",
              "      <td>chính sách, quản lý</td>\n",
              "      <td>toàn quốc</td>\n",
              "      <td>4</td>\n",
              "      <td>VietNamPlus</td>\n",
              "      <td>Tham dự COP28: Việt Nam quyết tâm thúc đẩy giả...</td>\n",
              "      <td>https://www.vietnamplus.vn/tham-du-cop28-viet-...</td>\n",
              "      <td>Trao đổi với báo chí, Phó Cục trưởng Cục Biến ...</td>\n",
              "    </tr>\n",
              "    <tr>\n",
              "      <th>4</th>\n",
              "      <td>1/12/2023</td>\n",
              "      <td>KTTV -BĐKH</td>\n",
              "      <td>chính sách, quản lý</td>\n",
              "      <td>toàn quốc</td>\n",
              "      <td>4</td>\n",
              "      <td>VOV</td>\n",
              "      <td>Hội nghị COP28: Khẳng định cam kết ứng phó với...</td>\n",
              "      <td>https://vov.vn/xa-hoi/hoi-nghi-cop28-khang-din...</td>\n",
              "      <td>theo Bộ Tài nguyên và Môi trường, COP 28 là Hộ...</td>\n",
              "    </tr>\n",
              "  </tbody>\n",
              "</table>\n",
              "</div>\n",
              "    <div class=\"colab-df-buttons\">\n",
              "\n",
              "  <div class=\"colab-df-container\">\n",
              "    <button class=\"colab-df-convert\" onclick=\"convertToInteractive('df-833d3302-0208-4911-9a16-61011a0361cd')\"\n",
              "            title=\"Convert this dataframe to an interactive table.\"\n",
              "            style=\"display:none;\">\n",
              "\n",
              "  <svg xmlns=\"http://www.w3.org/2000/svg\" height=\"24px\" viewBox=\"0 -960 960 960\">\n",
              "    <path d=\"M120-120v-720h720v720H120Zm60-500h600v-160H180v160Zm220 220h160v-160H400v160Zm0 220h160v-160H400v160ZM180-400h160v-160H180v160Zm440 0h160v-160H620v160ZM180-180h160v-160H180v160Zm440 0h160v-160H620v160Z\"/>\n",
              "  </svg>\n",
              "    </button>\n",
              "\n",
              "  <style>\n",
              "    .colab-df-container {\n",
              "      display:flex;\n",
              "      gap: 12px;\n",
              "    }\n",
              "\n",
              "    .colab-df-convert {\n",
              "      background-color: #E8F0FE;\n",
              "      border: none;\n",
              "      border-radius: 50%;\n",
              "      cursor: pointer;\n",
              "      display: none;\n",
              "      fill: #1967D2;\n",
              "      height: 32px;\n",
              "      padding: 0 0 0 0;\n",
              "      width: 32px;\n",
              "    }\n",
              "\n",
              "    .colab-df-convert:hover {\n",
              "      background-color: #E2EBFA;\n",
              "      box-shadow: 0px 1px 2px rgba(60, 64, 67, 0.3), 0px 1px 3px 1px rgba(60, 64, 67, 0.15);\n",
              "      fill: #174EA6;\n",
              "    }\n",
              "\n",
              "    .colab-df-buttons div {\n",
              "      margin-bottom: 4px;\n",
              "    }\n",
              "\n",
              "    [theme=dark] .colab-df-convert {\n",
              "      background-color: #3B4455;\n",
              "      fill: #D2E3FC;\n",
              "    }\n",
              "\n",
              "    [theme=dark] .colab-df-convert:hover {\n",
              "      background-color: #434B5C;\n",
              "      box-shadow: 0px 1px 3px 1px rgba(0, 0, 0, 0.15);\n",
              "      filter: drop-shadow(0px 1px 2px rgba(0, 0, 0, 0.3));\n",
              "      fill: #FFFFFF;\n",
              "    }\n",
              "  </style>\n",
              "\n",
              "    <script>\n",
              "      const buttonEl =\n",
              "        document.querySelector('#df-833d3302-0208-4911-9a16-61011a0361cd button.colab-df-convert');\n",
              "      buttonEl.style.display =\n",
              "        google.colab.kernel.accessAllowed ? 'block' : 'none';\n",
              "\n",
              "      async function convertToInteractive(key) {\n",
              "        const element = document.querySelector('#df-833d3302-0208-4911-9a16-61011a0361cd');\n",
              "        const dataTable =\n",
              "          await google.colab.kernel.invokeFunction('convertToInteractive',\n",
              "                                                    [key], {});\n",
              "        if (!dataTable) return;\n",
              "\n",
              "        const docLinkHtml = 'Like what you see? Visit the ' +\n",
              "          '<a target=\"_blank\" href=https://colab.research.google.com/notebooks/data_table.ipynb>data table notebook</a>'\n",
              "          + ' to learn more about interactive tables.';\n",
              "        element.innerHTML = '';\n",
              "        dataTable['output_type'] = 'display_data';\n",
              "        await google.colab.output.renderOutput(dataTable, element);\n",
              "        const docLink = document.createElement('div');\n",
              "        docLink.innerHTML = docLinkHtml;\n",
              "        element.appendChild(docLink);\n",
              "      }\n",
              "    </script>\n",
              "  </div>\n",
              "\n",
              "\n",
              "<div id=\"df-82e62e88-cd9d-4058-b1e0-04992ce418ad\">\n",
              "  <button class=\"colab-df-quickchart\" onclick=\"quickchart('df-82e62e88-cd9d-4058-b1e0-04992ce418ad')\"\n",
              "            title=\"Suggest charts\"\n",
              "            style=\"display:none;\">\n",
              "\n",
              "<svg xmlns=\"http://www.w3.org/2000/svg\" height=\"24px\"viewBox=\"0 0 24 24\"\n",
              "     width=\"24px\">\n",
              "    <g>\n",
              "        <path d=\"M19 3H5c-1.1 0-2 .9-2 2v14c0 1.1.9 2 2 2h14c1.1 0 2-.9 2-2V5c0-1.1-.9-2-2-2zM9 17H7v-7h2v7zm4 0h-2V7h2v10zm4 0h-2v-4h2v4z\"/>\n",
              "    </g>\n",
              "</svg>\n",
              "  </button>\n",
              "\n",
              "<style>\n",
              "  .colab-df-quickchart {\n",
              "      --bg-color: #E8F0FE;\n",
              "      --fill-color: #1967D2;\n",
              "      --hover-bg-color: #E2EBFA;\n",
              "      --hover-fill-color: #174EA6;\n",
              "      --disabled-fill-color: #AAA;\n",
              "      --disabled-bg-color: #DDD;\n",
              "  }\n",
              "\n",
              "  [theme=dark] .colab-df-quickchart {\n",
              "      --bg-color: #3B4455;\n",
              "      --fill-color: #D2E3FC;\n",
              "      --hover-bg-color: #434B5C;\n",
              "      --hover-fill-color: #FFFFFF;\n",
              "      --disabled-bg-color: #3B4455;\n",
              "      --disabled-fill-color: #666;\n",
              "  }\n",
              "\n",
              "  .colab-df-quickchart {\n",
              "    background-color: var(--bg-color);\n",
              "    border: none;\n",
              "    border-radius: 50%;\n",
              "    cursor: pointer;\n",
              "    display: none;\n",
              "    fill: var(--fill-color);\n",
              "    height: 32px;\n",
              "    padding: 0;\n",
              "    width: 32px;\n",
              "  }\n",
              "\n",
              "  .colab-df-quickchart:hover {\n",
              "    background-color: var(--hover-bg-color);\n",
              "    box-shadow: 0 1px 2px rgba(60, 64, 67, 0.3), 0 1px 3px 1px rgba(60, 64, 67, 0.15);\n",
              "    fill: var(--button-hover-fill-color);\n",
              "  }\n",
              "\n",
              "  .colab-df-quickchart-complete:disabled,\n",
              "  .colab-df-quickchart-complete:disabled:hover {\n",
              "    background-color: var(--disabled-bg-color);\n",
              "    fill: var(--disabled-fill-color);\n",
              "    box-shadow: none;\n",
              "  }\n",
              "\n",
              "  .colab-df-spinner {\n",
              "    border: 2px solid var(--fill-color);\n",
              "    border-color: transparent;\n",
              "    border-bottom-color: var(--fill-color);\n",
              "    animation:\n",
              "      spin 1s steps(1) infinite;\n",
              "  }\n",
              "\n",
              "  @keyframes spin {\n",
              "    0% {\n",
              "      border-color: transparent;\n",
              "      border-bottom-color: var(--fill-color);\n",
              "      border-left-color: var(--fill-color);\n",
              "    }\n",
              "    20% {\n",
              "      border-color: transparent;\n",
              "      border-left-color: var(--fill-color);\n",
              "      border-top-color: var(--fill-color);\n",
              "    }\n",
              "    30% {\n",
              "      border-color: transparent;\n",
              "      border-left-color: var(--fill-color);\n",
              "      border-top-color: var(--fill-color);\n",
              "      border-right-color: var(--fill-color);\n",
              "    }\n",
              "    40% {\n",
              "      border-color: transparent;\n",
              "      border-right-color: var(--fill-color);\n",
              "      border-top-color: var(--fill-color);\n",
              "    }\n",
              "    60% {\n",
              "      border-color: transparent;\n",
              "      border-right-color: var(--fill-color);\n",
              "    }\n",
              "    80% {\n",
              "      border-color: transparent;\n",
              "      border-right-color: var(--fill-color);\n",
              "      border-bottom-color: var(--fill-color);\n",
              "    }\n",
              "    90% {\n",
              "      border-color: transparent;\n",
              "      border-bottom-color: var(--fill-color);\n",
              "    }\n",
              "  }\n",
              "</style>\n",
              "\n",
              "  <script>\n",
              "    async function quickchart(key) {\n",
              "      const quickchartButtonEl =\n",
              "        document.querySelector('#' + key + ' button');\n",
              "      quickchartButtonEl.disabled = true;  // To prevent multiple clicks.\n",
              "      quickchartButtonEl.classList.add('colab-df-spinner');\n",
              "      try {\n",
              "        const charts = await google.colab.kernel.invokeFunction(\n",
              "            'suggestCharts', [key], {});\n",
              "      } catch (error) {\n",
              "        console.error('Error during call to suggestCharts:', error);\n",
              "      }\n",
              "      quickchartButtonEl.classList.remove('colab-df-spinner');\n",
              "      quickchartButtonEl.classList.add('colab-df-quickchart-complete');\n",
              "    }\n",
              "    (() => {\n",
              "      let quickchartButtonEl =\n",
              "        document.querySelector('#df-82e62e88-cd9d-4058-b1e0-04992ce418ad button');\n",
              "      quickchartButtonEl.style.display =\n",
              "        google.colab.kernel.accessAllowed ? 'block' : 'none';\n",
              "    })();\n",
              "  </script>\n",
              "</div>\n",
              "\n",
              "    </div>\n",
              "  </div>\n"
            ],
            "application/vnd.google.colaboratory.intrinsic+json": {
              "type": "dataframe",
              "variable_name": "df",
              "summary": "{\n  \"name\": \"df\",\n  \"rows\": 1086,\n  \"fields\": [\n    {\n      \"column\": \"Thoigian\",\n      \"properties\": {\n        \"dtype\": \"category\",\n        \"num_unique_values\": 21,\n        \"samples\": [\n          \"1/12/2023\",\n          \"26/12/2023\",\n          \"22/12/2023\"\n        ],\n        \"semantic_type\": \"\",\n        \"description\": \"\"\n      }\n    },\n    {\n      \"column\": \"Linh_vuc\",\n      \"properties\": {\n        \"dtype\": \"category\",\n        \"num_unique_values\": 10,\n        \"samples\": [\n          \"chung\",\n          \"\\u0111\\u1ea5t \\u0111ai\",\n          \"th\\u00f4ng tin chung\"\n        ],\n        \"semantic_type\": \"\",\n        \"description\": \"\"\n      }\n    },\n    {\n      \"column\": \"Chuyen_muc\",\n      \"properties\": {\n        \"dtype\": \"category\",\n        \"num_unique_values\": 5,\n        \"samples\": [\n          \"th\\u1ef1c tr\\u1ea1ng, sai ph\\u1ea1m\",\n          \" th\\u00f4ng tin kh\\u00e1c\",\n          \"ki\\u1ebfn ngh\\u1ecb, x\\u1eed l\\u00fd\"\n        ],\n        \"semantic_type\": \"\",\n        \"description\": \"\"\n      }\n    },\n    {\n      \"column\": \"Dia_diem\",\n      \"properties\": {\n        \"dtype\": \"category\",\n        \"num_unique_values\": 166,\n        \"samples\": [\n          \"\\u0110\\u1ed3ng Nai\",\n          \"TP\\u00a0\\u0110\\u00e0 N\\u1eb5ng\\u00a0\",\n          \"B\\u00ecnh D\\u01b0\\u01a1ng\"\n        ],\n        \"semantic_type\": \"\",\n        \"description\": \"\"\n      }\n    },\n    {\n      \"column\": \"Muc_do\",\n      \"properties\": {\n        \"dtype\": \"number\",\n        \"std\": 0,\n        \"min\": 2,\n        \"max\": 4,\n        \"num_unique_values\": 3,\n        \"samples\": [\n          4,\n          2,\n          3\n        ],\n        \"semantic_type\": \"\",\n        \"description\": \"\"\n      }\n    },\n    {\n      \"column\": \"Nguon_tin\",\n      \"properties\": {\n        \"dtype\": \"category\",\n        \"num_unique_values\": 377,\n        \"samples\": [\n          \"Ch\\u00ednh ph\\u1ee7 \",\n          \"VietNamPlus,\",\n          \"\\u0110\\u1ea3ng c\\u1ed9ng s\\u1ea3n, TN&MT\"\n        ],\n        \"semantic_type\": \"\",\n        \"description\": \"\"\n      }\n    },\n    {\n      \"column\": \"Tin_bai\",\n      \"properties\": {\n        \"dtype\": \"string\",\n        \"num_unique_values\": 1084,\n        \"samples\": [\n          \"Ng\\u01b0\\u1eddi d\\u00e2n khu v\\u1ef1c d\\u1ef1 \\u00e1n tho\\u00e1t l\\u0169 c\\u1ee7a \\u0110\\u00e0 N\\u1eb5ng kh\\u00f4ng \\u0111\\u01b0\\u1ee3c s\\u1eeda nh\\u00e0, t\\u00e1ch th\\u1eeda.\",\n          \"\\u0110\\u1ea3m b\\u1ea3o an c\\u01b0 cho ng\\u01b0\\u1eddi d\\u00e2n v\\u00f9ng s\\u1ea1t l\\u1edf.\",\n          \"Kh\\u00e1nh H\\u00f2a c\\u1ea5p \\u0111\\u00e2\\u0301t t\\u00e1i \\u0111\\u1ecbnh c\\u01b0 chi\\u0309 b\\u0103\\u0300ng 0,8% t\\u00f4\\u0309ng di\\u00ea\\u0323n ti\\u0301ch \\u0111\\u00e2\\u0301t thu h\\u00f4\\u0300i cu\\u0309a d\\u00e2n (918,16ha). \"\n        ],\n        \"semantic_type\": \"\",\n        \"description\": \"\"\n      }\n    },\n    {\n      \"column\": \"Link_tin_bai\",\n      \"properties\": {\n        \"dtype\": \"string\",\n        \"num_unique_values\": 1070,\n        \"samples\": [\n          \"https://tienphong.vn/cach-het-cac-chuc-vu-trong-dang-mot-can-bo-cua-tp-ha-long-post1596941.tpo\",\n          \"https://thanhnien.vn/quoc-hoi-se-hop-bat-thuong-vao-1512024-de-thong-qua-luat-dat-dai-185231219001223914.htm\",\n          \"https://tuoitre.vn/ngan-hang-standard-chartered-va-doi-tac-ho-tro-viet-nam-giam-dien-than-20231201201902296.htm\"\n        ],\n        \"semantic_type\": \"\",\n        \"description\": \"\"\n      }\n    },\n    {\n      \"column\": \"Tom_tat_noi_dung\",\n      \"properties\": {\n        \"dtype\": \"string\",\n        \"num_unique_values\": 968,\n        \"samples\": [\n          \"PGS.TS Ph\\u1ea1m Tr\\u1ea7n V\\u0169, Tr\\u01b0\\u1eddng \\u0110\\u1ea1i h\\u1ecdc B\\u00e1ch khoa, \\u0110\\u1ea1i h\\u1ecdc Qu\\u1ed1c gia TPHCM\",\n          \"Vi\\u1ec7t Nam \\u0111\\u1ec1 xu\\u1ea5t 4 nh\\u00f3m \\u01b0u ti\\u00ean cho h\\u1ee3p t\\u00e1c Mekong \\u2013 Lan Th\\u01b0\\u01a1ng\",\n          \"S\\u1edf Th\\u00f4ng tin \\u2013 Truy\\u1ec1n th\\u00f4ng Kh\\u00e1nh H\\u00f2a c\\u00f3 v\\u0103n b\\u1ea3n \\u0111\\u1ec1 ngh\\u1ecb UBND huy\\u1ec7n Kh\\u00e1nh V\\u0129nh ki\\u1ec3m tra, x\\u1eed l\\u00fd th\\u00f4ng tin\"\n        ],\n        \"semantic_type\": \"\",\n        \"description\": \"\"\n      }\n    }\n  ]\n}"
            }
          },
          "metadata": {},
          "execution_count": 46
        }
      ],
      "source": [
        "df = pd.read_csv(\"/content/BaoChi/TNMT_link.csv\")\n",
        "# To display the top 5 rows\n",
        "df.head(5)"
      ]
    },
    {
      "cell_type": "markdown",
      "metadata": {
        "id": "JjQnr4SPzaL5"
      },
      "source": [
        "\n",
        "\n",
        "---\n",
        "\n"
      ]
    },
    {
      "cell_type": "markdown",
      "metadata": {
        "id": "vAmC369yTpMF"
      },
      "source": [
        "## Checking the types of data"
      ]
    },
    {
      "cell_type": "code",
      "execution_count": 47,
      "metadata": {
        "colab": {
          "base_uri": "https://localhost:8080/"
        },
        "id": "qPbKQ0noRptD",
        "outputId": "40fc4f90-8554-4e63-cd7d-38bdfaa01468"
      },
      "outputs": [
        {
          "output_type": "execute_result",
          "data": {
            "text/plain": [
              "Thoigian            object\n",
              "Linh_vuc            object\n",
              "Chuyen_muc          object\n",
              "Dia_diem            object\n",
              "Muc_do               int64\n",
              "Nguon_tin           object\n",
              "Tin_bai             object\n",
              "Link_tin_bai        object\n",
              "Tom_tat_noi_dung    object\n",
              "dtype: object"
            ]
          },
          "metadata": {},
          "execution_count": 47
        }
      ],
      "source": [
        "df.dtypes"
      ]
    },
    {
      "cell_type": "markdown",
      "metadata": {
        "id": "uiW7x_O4WIDX"
      },
      "source": [
        "## Dropping the duplicate rows"
      ]
    },
    {
      "cell_type": "code",
      "execution_count": 48,
      "metadata": {
        "colab": {
          "base_uri": "https://localhost:8080/"
        },
        "id": "1nBN_BCDWSmv",
        "outputId": "e784f529-9a74-480a-9cc6-d2c1ecec5f44"
      },
      "outputs": [
        {
          "output_type": "execute_result",
          "data": {
            "text/plain": [
              "(1086, 9)"
            ]
          },
          "metadata": {},
          "execution_count": 48
        }
      ],
      "source": [
        "df.shape"
      ]
    },
    {
      "cell_type": "code",
      "execution_count": 49,
      "metadata": {
        "colab": {
          "base_uri": "https://localhost:8080/"
        },
        "id": "yB8t6o0wH7If",
        "outputId": "70895cc7-0e35-4761-bad1-1afadbdb39c0"
      },
      "outputs": [
        {
          "output_type": "stream",
          "name": "stdout",
          "text": [
            "number of duplicate rows:  (0, 9)\n"
          ]
        }
      ],
      "source": [
        "duplicate_rows_df = df[df.duplicated()]\n",
        "print(\"number of duplicate rows: \", duplicate_rows_df.shape)"
      ]
    },
    {
      "cell_type": "code",
      "execution_count": 50,
      "metadata": {
        "id": "ymYInjE38Wuh"
      },
      "outputs": [],
      "source": [
        "# df.drop_duplicates(inplace=True)\n",
        "# df"
      ]
    },
    {
      "cell_type": "code",
      "execution_count": 51,
      "metadata": {
        "colab": {
          "base_uri": "https://localhost:8080/"
        },
        "id": "kuobmetTV820",
        "outputId": "20e76c6d-3f5c-4bde-dc89-c3b501738c1c"
      },
      "outputs": [
        {
          "output_type": "execute_result",
          "data": {
            "text/plain": [
              "Thoigian            1086\n",
              "Linh_vuc            1086\n",
              "Chuyen_muc          1086\n",
              "Dia_diem            1086\n",
              "Muc_do              1086\n",
              "Nguon_tin           1086\n",
              "Tin_bai             1086\n",
              "Link_tin_bai        1081\n",
              "Tom_tat_noi_dung    1086\n",
              "dtype: int64"
            ]
          },
          "metadata": {},
          "execution_count": 51
        }
      ],
      "source": [
        "df.count()      # Used to count the number of rows"
      ]
    },
    {
      "cell_type": "markdown",
      "metadata": {
        "id": "zCLUdZOQ1PDP"
      },
      "source": [
        "\n",
        "\n",
        "---\n",
        "\n"
      ]
    },
    {
      "cell_type": "markdown",
      "metadata": {
        "id": "JkXUQtyQW3Dy"
      },
      "source": [
        "## Dropping the missing or null values."
      ]
    },
    {
      "cell_type": "code",
      "execution_count": 52,
      "metadata": {
        "colab": {
          "base_uri": "https://localhost:8080/"
        },
        "id": "Tzdlg-1OWjMz",
        "outputId": "73023f4a-ff27-4bfe-e2ea-eebc95445983"
      },
      "outputs": [
        {
          "output_type": "stream",
          "name": "stdout",
          "text": [
            "Thoigian            0\n",
            "Linh_vuc            0\n",
            "Chuyen_muc          0\n",
            "Dia_diem            0\n",
            "Muc_do              0\n",
            "Nguon_tin           0\n",
            "Tin_bai             0\n",
            "Link_tin_bai        5\n",
            "Tom_tat_noi_dung    0\n",
            "dtype: int64\n"
          ]
        },
        {
          "output_type": "execute_result",
          "data": {
            "text/plain": [
              "Thoigian            1081\n",
              "Linh_vuc            1081\n",
              "Chuyen_muc          1081\n",
              "Dia_diem            1081\n",
              "Muc_do              1081\n",
              "Nguon_tin           1081\n",
              "Tin_bai             1081\n",
              "Link_tin_bai        1081\n",
              "Tom_tat_noi_dung    1081\n",
              "dtype: int64"
            ]
          },
          "metadata": {},
          "execution_count": 52
        }
      ],
      "source": [
        "print(df.isnull().sum())\n",
        "df = df.dropna()    # Dropping the missing values.\n",
        "df.count()"
      ]
    },
    {
      "cell_type": "markdown",
      "metadata": {
        "id": "bk8RAHqQJVJK"
      },
      "source": [
        "\n",
        "\n",
        "---\n",
        "\n"
      ]
    },
    {
      "cell_type": "markdown",
      "metadata": {
        "id": "WqFPRda8eEp_"
      },
      "source": [
        "## Pre-process Linh_vuc and Chuyen_muc, Muc do, Link\n"
      ]
    },
    {
      "cell_type": "code",
      "execution_count": 53,
      "metadata": {
        "id": "dAnd4DSyeHDb"
      },
      "outputs": [],
      "source": [
        "# Thay thế các nhãn trùng lặp trong cột 'Linh_vuc'\n",
        "df['Linh_vuc'].replace('KTTV -BĐKH', 'KTTV-BĐKH', inplace=True)\n",
        "df['Linh_vuc'].replace('KTTV - BĐKH', 'KTTV-BĐKH', inplace=True)"
      ]
    },
    {
      "cell_type": "code",
      "execution_count": 54,
      "metadata": {
        "id": "P6AKUFDpCDRU"
      },
      "outputs": [],
      "source": [
        "import re\n",
        "df['Chuyen_muc'] = df['Chuyen_muc'].apply(lambda x: re.sub(r'\\s+', ' ', x.strip()) if 'thông tin khác' in x else x)"
      ]
    },
    {
      "cell_type": "code",
      "execution_count": 55,
      "metadata": {
        "id": "KqeYgFirAeJl"
      },
      "outputs": [],
      "source": [
        "# Ánh xạ các giá trị của cột 'Muc_do' sử dụng từ điển\n",
        "mapping = {1: \"Rất tiêu cực\", 2: \"Tiêu cực\", 3: \"Tích cực\", 4: \"Trung tính\"}\n",
        "df['Muc_do_ten'] = df['Muc_do'].map(mapping)\n"
      ]
    },
    {
      "cell_type": "code",
      "execution_count": 56,
      "metadata": {
        "id": "JS_9wVY6cjHs"
      },
      "outputs": [],
      "source": [
        "def remove_links_from_column(df, column_name, links_to_remove):\n",
        "    \"\"\"\n",
        "    Remove links from a specific column in a DataFrame.\n",
        "\n",
        "    Args:\n",
        "    - df (DataFrame): The DataFrame to remove links from.\n",
        "    - column_name (str): The name of the column to check for links.\n",
        "    - links_to_remove (list): A list of links to be removed from the DataFrame.\n",
        "\n",
        "    Returns:\n",
        "    - DataFrame: The DataFrame with the specified links removed.\n",
        "    \"\"\"\n",
        "    # Iterate through each link to remove\n",
        "    for link in links_to_remove:\n",
        "        # Check if the link is present in any cell of the specified column\n",
        "        mask = df[column_name].str.contains(link)\n",
        "        # Remove rows where the link is present in the specified column\n",
        "        df = df[~mask]\n",
        "\n",
        "    return df\n",
        "\n",
        "# List of links to be removed\n",
        "links_to_remove = [\n",
        "    # các link quá ít báo\n",
        "    \"antt.vn\",\n",
        "    \"dangcongsan.vn\",\n",
        "    \"dttc.sggp.org.vn\",\n",
        "    \"kinhtemoitruong.vn\",\n",
        "    \"lifestyle.zingnews.vn\",\n",
        "    \"phunuvietnam.vn\",\n",
        "    \"quochoitv.vn\",\n",
        "    \"thanglong.chinhphu.vn\",\n",
        "    \"www.phapluatplus.vn\",\n",
        "    \"quanly.moitruongvadothi.vn\",\n",
        "    \"amp.vtc.vn\",\n",
        "    \"baohaiduong.vn\",\n",
        "    \"baonghean.vn\",\n",
        "    \"baotayninh.vn\",\n",
        "    \"baovephapluat.vn\",\n",
        "    \"bnews.vn\",\n",
        "    \"cafef.vn\",\n",
        "    \"daklak24h.com.vn\",\n",
        "    \"etv.quochoi.vn\",\n",
        "    \"giaoduc.net.vn\",\n",
        "    \"hcmcpv.org.vn\",\n",
        "    \"meeyland.com\",\n",
        "    \"nangluongvietnam.vn\",\n",
        "    \"news.baodansinh.vn\",\n",
        "    \"petrotimes.vn\",\n",
        "    \"taichinhdoanhnghiep.net.vn\",\n",
        "    \"theleader.vn\",\n",
        "    \"thethaovanhoa.vn\",\n",
        "    \"thoibaotaichinhvietnam.vn\",\n",
        "    \"tintucvietnam.vn\",\n",
        "    \"vovgiaothong.vn\",\n",
        "    \"www.doisongphapluat.com\",\n",
        "    \"www.youtube.com\",\n",
        "\n",
        "    # 3 link đang lỗi 1 link quốc hội k cho quét\n",
        "    \"nongnghiep.vn\",\n",
        "    \"baotintuc.vn\",\n",
        "    \"vietnamnet.vn\"\n",
        "    \"quochoi.vn\"\n",
        "    \"Downloads\"\n",
        "]\n",
        "\n",
        "# Name of the column to check for links\n",
        "column_name = 'Link_tin_bai'  # Replace 'Your_Column_Name' with the actual column name\n",
        "\n",
        "# Call the function to remove links from the specified column directly in the original DataFrame\n",
        "df_cleaned = remove_links_from_column(df, column_name, links_to_remove)\n"
      ]
    },
    {
      "cell_type": "code",
      "execution_count": null,
      "metadata": {
        "id": "kZPqJX9arpfW"
      },
      "outputs": [],
      "source": [
        "df_cleaned = df_cleaned.reset_index(drop=True)\n",
        "df_cleaned"
      ]
    },
    {
      "cell_type": "markdown",
      "metadata": {
        "id": "ZnUoWhzTNfDL"
      },
      "source": [
        "# Fetch Data from URL Link"
      ]
    },
    {
      "cell_type": "markdown",
      "metadata": {
        "id": "AMvzXeqUqFrI"
      },
      "source": [
        "## process text"
      ]
    },
    {
      "cell_type": "code",
      "execution_count": 58,
      "metadata": {
        "id": "taW7nmFVPD_X"
      },
      "outputs": [],
      "source": [
        "def preprocess_text(text):\n",
        "    # Loại bỏ khoảng trắng dư thừa và kí tự không mong muốn\n",
        "    text = text.strip()  # Loại bỏ khoảng trắng ở đầu và cuối chuỗi\n",
        "    text = re.sub(r'\\s+', '.', text)  # Loại bỏ khoảng trắng dư thừa\n",
        "    text = re.sub(r'[^\\w\\s]', ' ', text)  # Loại bỏ các kí tự không phải là chữ cái hoặc số\n",
        "    # Thực hiện chuẩn hóa khoảng trắng giữa các từ\n",
        "    words = text.split()\n",
        "    text = ' '.join(words)\n",
        "    return text\n",
        "\n",
        "# Function to fetch text content from a URL\n",
        "def get_article_text(url):\n",
        "    try:\n",
        "        response = requests.get(url)\n",
        "        if response.status_code == 200:\n",
        "            soup = BeautifulSoup(response.text, 'html.parser')\n",
        "            # Extract text content (you may need to adjust this based on the structure of the website)\n",
        "            text_content = soup.get_text()\n",
        "            return text_content\n",
        "        else:\n",
        "            print(f\"Failed to fetch data from {url}\")\n",
        "            return None\n",
        "    except Exception as e:\n",
        "        print(f\"Error fetching data from {url}: {e}\")\n",
        "        return None\n",
        "\n",
        "\n",
        "def get_description_from_meta(url):\n",
        "    response = requests.get(url)\n",
        "    if response.status_code == 200:\n",
        "        soup = BeautifulSoup(response.content, 'html.parser')\n",
        "\n",
        "        # Tìm mô tả từ thẻ <meta name=\"description\">\n",
        "        description_tag = soup.find('meta', attrs={'name': 'description'})\n",
        "        if description_tag:\n",
        "            description = description_tag.get('content', '')\n",
        "            if description:\n",
        "                return description\n",
        "\n",
        "        # Nếu không tìm thấy từ thẻ <meta name=\"description\">, thử tìm từ thẻ <meta property=\"og:description\">\n",
        "        og_description_tag = soup.find('meta', property='og:description')\n",
        "        if og_description_tag:\n",
        "            og_description = og_description_tag.get('content', '')\n",
        "            if og_description:\n",
        "                return og_description\n",
        "\n",
        "    return None\n"
      ]
    },
    {
      "cell_type": "markdown",
      "metadata": {
        "id": "4_t9nRm6qMEv"
      },
      "source": [
        "## Get paragraph from Different URL"
      ]
    },
    {
      "cell_type": "code",
      "execution_count": 59,
      "metadata": {
        "id": "M4yktZt5ZsKW"
      },
      "outputs": [],
      "source": [
        "def get_paragraphs(url):\n",
        "  def get_soup(response):\n",
        "    # Sử dụng mã hóa UTF-8 khi parse nội dung HTML\n",
        "    return BeautifulSoup(response.content, 'html.parser', from_encoding='utf-8')\n",
        "\n",
        "  def get_itemprop_articleBody(url):\n",
        "    response = requests.get(url)\n",
        "    if response.status_code == 200:\n",
        "        soup = get_soup(response)\n",
        "        article_body_div = soup.find('div', itemprop='articleBody')\n",
        "        if article_body_div:\n",
        "            paragraphs = article_body_div.find_all('p')\n",
        "            if paragraphs:\n",
        "                return '\\n'.join([p.get_text() for p in paragraphs])\n",
        "    return None\n",
        "\n",
        "  def get_itemprop_articleBody_article(url):\n",
        "    response = requests.get(url)\n",
        "    if response.status_code == 200:\n",
        "        soup = get_soup(response)\n",
        "        article_body_div = soup.find('article', itemprop='articleBody')\n",
        "        if article_body_div:\n",
        "            paragraphs = article_body_div.find_all('p')\n",
        "            if paragraphs:\n",
        "                return '\\n'.join([p.get_text() for p in paragraphs])\n",
        "    return None\n",
        "  def get_div_class(url, class_name):\n",
        "      response = requests.get(url)\n",
        "      if response.status_code == 200:\n",
        "          soup = get_soup(response)\n",
        "          main_div = soup.find('div', class_= class_name)\n",
        "          if main_div:\n",
        "              paragraphs = main_div.find_all('p')\n",
        "              if paragraphs:\n",
        "                  return '\\n'.join([p.get_text() for p in paragraphs])\n",
        "      return None\n",
        "\n",
        "  def get_div_id(url, id_name):\n",
        "    response = requests.get(url)\n",
        "    if response.status_code == 200:\n",
        "        soup = get_soup(response)\n",
        "        specific_div = soup.find('div', id=id_name)\n",
        "        if specific_div:\n",
        "            paragraphs = specific_div.find_all('p')\n",
        "            if paragraphs:\n",
        "                return '\\n'.join([p.get_text() for p in paragraphs])\n",
        "    return None\n",
        "\n",
        "  def get_article_id(url, id_name):\n",
        "    response = requests.get(url)\n",
        "    if response.status_code == 200:\n",
        "        soup = get_soup(response)\n",
        "        specific_article = soup.find('article', id=id_name)\n",
        "        if specific_article:\n",
        "            paragraphs = specific_article.find_all('p')\n",
        "            if paragraphs:\n",
        "                return '\\n'.join([p.get_text() for p in paragraphs])\n",
        "    return None\n",
        "\n",
        "  def get_article_class(url, class_name):\n",
        "      response = requests.get(url)\n",
        "      if response.status_code == 200:\n",
        "          soup = get_soup(response)\n",
        "          specific_article = soup.find('article', class_= class_name)\n",
        "          if specific_article:\n",
        "              paragraphs = specific_article.find_all('p')\n",
        "              if paragraphs:\n",
        "                  return '\\n'.join([p.get_text() for p in paragraphs])\n",
        "      return None\n",
        "\n",
        "  # 1\n",
        "  if url.__contains__('laodong.vn'):\n",
        "    return get_itemprop_articleBody(url)\n",
        "  # 2\n",
        "  elif url.__contains__('www.vietnamplus.vn'):\n",
        "    return get_itemprop_articleBody(url)\n",
        "  # 3\n",
        "  elif url.__contains__('tienphong.vn'):\n",
        "    return get_itemprop_articleBody(url)\n",
        "  # 4\n",
        "  elif url.__contains__('tuoitre.vn'):\n",
        "    return get_itemprop_articleBody(url)\n",
        "  # 5\n",
        "  elif url.__contains__('baoxaydung.com.vn'):\n",
        "    return get_div_class(url, 'item-content')\n",
        "  # 6\n",
        "  elif url.__contains__('plo.vn'):\n",
        "    return get_itemprop_articleBody(url)\n",
        "  # 7\n",
        "  elif url.__contains__('dantri.com.vn'):\n",
        "    return get_div_class(url, 'singular-content')\n",
        "  # 8\n",
        "  elif url.__contains__('thanhnien.vn'):\n",
        "    return get_itemprop_articleBody(url)\n",
        "  # 9 ####################Hiện đang k có quyền truy xuất ############################\n",
        "  elif url.__contains__('baotintuc.vn'):\n",
        "    return get_itemprop_articleBody(url)\n",
        "   ####################Hiện đang k có quyền truy xuất ------------------------\n",
        "  # 10\n",
        "  elif url.__contains__('daibieunhandan.vn'):\n",
        "    return get_div_class(url, 'detail-content-body')\n",
        "  # 11\n",
        "  elif url.__contains__('vov.vn'):\n",
        "    return get_itemprop_articleBody_article(url)\n",
        "  # 12\n",
        "  elif url.__contains__('vtv.vn'):\n",
        "    return get_div_id(url, 'entry-body')\n",
        "  # 13\n",
        "  elif url.__contains__('www.sggp.org.vn'):\n",
        "    return get_itemprop_articleBody(url)\n",
        "  # 14\n",
        "  elif url.__contains__('kinhtedothi.vn'):\n",
        "    return get_itemprop_articleBody(url)\n",
        "  # 15\n",
        "  elif url.__contains__('daidoanket.vn'):\n",
        "    return get_div_class(url, 'b-maincontent')\n",
        "  # 16\n",
        "  elif url.__contains__('baotainguyenmoitruong.vn'):\n",
        "    return get_div_class(url, 'entry') # entry\n",
        "  # 17\n",
        "  elif url.__contains__('nld.com.vn'):\n",
        "    return get_itemprop_articleBody(url)\n",
        "  # 18\n",
        "  elif url.__contains__('www.moitruongvadothi.vn'):\n",
        "    return get_article_id(url, \"main-detail\")\n",
        "  # 19\n",
        "  elif url.__contains__('baochinhphu.vn'):\n",
        "    return get_div_class(url, 'main')\n",
        "  # 20\n",
        "  elif url.__contains__('hanoimoi.vn'):\n",
        "    return get_div_class(url, 'entry')\n",
        "  # 21\n",
        "  elif url.__contains__('baodautu.vn'):\n",
        "    return get_div_id(url, 'content_detail_news')\n",
        "  # 22 ###### ĐANG LỖI HIỂN THỊ UNIKEY cho chữ -------------------------------\n",
        "  elif url.__contains__('vietnamnet.vn'):\n",
        "    return get_div_id(url, 'maincontent')\n",
        "  # 23\n",
        "  elif url.__contains__('congthuong.vn'):\n",
        "    return get_itemprop_articleBody(url)\n",
        "  # 24\n",
        "  elif url.__contains__('danviet.vn'):\n",
        "    return get_div_class(url, 'entry-body')\n",
        "  # 25\n",
        "  elif url.__contains__('thanhtra.com.vn'):\n",
        "    return get_itemprop_articleBody(url)\n",
        "  # 26\n",
        "  elif url.__contains__('vnexpress.net'):\n",
        "    return get_article_class(url, 'fck_detail')\n",
        "  # 27\n",
        "  elif url.__contains__('nhandan.vn'):\n",
        "    return get_itemprop_articleBody(url)\n",
        "  # 28\n",
        "  elif url.__contains__('www.baogiaothong.vn'):\n",
        "    return get_itemprop_articleBody(url)\n",
        "  # 29\n",
        "  elif url.__contains__('baophapluat.vn'):\n",
        "    return get_itemprop_articleBody(url)\n",
        "  # 30\n",
        "  elif url.__contains__('congly.vn'):\n",
        "    return get_div_class(url, 'entry')\n",
        "  # 31\n",
        "  elif url.__contains__('vneconomy.vn'):\n",
        "    return get_div_class(url, 'detail__content')\n",
        "  # 32\n",
        "  elif url.__contains__('www.nguoiduatin.vn'):\n",
        "    return get_article_class(url, 'article-content')\n",
        "  # 33\n",
        "  elif url.__contains__('www.congluan.vn'):\n",
        "    return get_div_class(url, 'content-detail')\n",
        "  # 34\n",
        "  elif url.__contains__('diendandoanhnghiep.vn'):\n",
        "    return get_article_id(url, 'detail-content')\n",
        "  # 35\n",
        "  elif url.__contains__('vtc.vn'):\n",
        "    return get_itemprop_articleBody(url)\n",
        "  # 36\n",
        "  elif url.__contains__('1thegioi.vn'):\n",
        "    return get_div_class(url, 'c-news-detail')\n",
        "\n",
        "\n",
        "  # 37 ##### đang lỗi k nhận đc response: https://nongnghiep.vn/vu-can-bo-lua-dan-ban-dat-ai-lam-sai-thi-bo-tien-ra-ma-den-d369867.html\n",
        "  elif url.__contains__('nongnghiep.vn'):\n",
        "    # return get_itemprop_articleBody(url)\n",
        "    return get_div_class(url, 'content')\n",
        "  # 38\n",
        "  elif url.__contains__('www.qdnd.vn'):\n",
        "    return get_itemprop_articleBody(url)\n",
        " # 39\n",
        "  elif url.__contains__('kinhtenongthon.vn'):\n",
        "    return get_div_class(url, 'detainew')\n",
        "  # 40\n",
        "  elif url.__contains__('reatimes.vn'):\n",
        "    return get_itemprop_articleBody(url)\n",
        "  # 41\n",
        "  elif url.__contains__('cand.com.vn'):\n",
        "    return get_div_class(url,'detail-content-body')\n",
        "  # 42\n",
        "  elif url.__contains__('giaoducthoidai.vn'):\n",
        "    return get_itemprop_articleBody(url)\n",
        "  # 43\n",
        "  elif url.__contains__('suckhoedoisong.vn'):\n",
        "    return get_itemprop_articleBody(url)\n",
        "  # 44\n",
        "  elif url.__contains__('baoquangnam.vn'):\n",
        "    return get_div_class(url, 'entry')\n",
        "  # 45  # không thể crawl data ở web này, chắc là có bảo mật riêng ngăn chặn truy cập bằng tool\n",
        "  elif url.__contains__('quochoi__.vn'):\n",
        "    return get_itemprop_articleBody(url)\n",
        "  # 46\n",
        "  elif url.__contains__('thesaigontimes.vn'):\n",
        "    return get_div_class(url, 'td-post-content')\n",
        "  # 47\n",
        "  elif url.__contains__('vnmedia.vn'):\n",
        "    return get_div_class(url, 'td-post-content')\n",
        "  # 48\n",
        "  elif url.__contains__('www.phunuonline.com.vn'):\n",
        "    return get_div_id(url, 'newscontents')\n",
        "  # 49\n",
        "  elif url.__contains__('www.quochoitv.vn'):\n",
        "    return get_div_class(url, 'uk-article')\n",
        "\n",
        "  # stop here\n",
        "  else:\n",
        "    return get_itemprop_articleBody(url)\n"
      ]
    },
    {
      "cell_type": "markdown",
      "metadata": {
        "id": "AwnGQ_SNey8W"
      },
      "source": []
    },
    {
      "cell_type": "code",
      "execution_count": null,
      "metadata": {
        "id": "EtgQBBsRShCI"
      },
      "outputs": [],
      "source": [
        "import csv\n",
        "\n",
        "\n",
        "# Set a limit for the number of records to process at a time\n",
        "batch_limit = 100\n",
        "\n",
        "# Count the number of records processed\n",
        "records_processed = 0\n",
        "\n",
        "# Iterate through each link in the 'Link_tai_bai' column and fetch article text\n",
        "for index, link_tin_bai in enumerate(df_cleaned['Link_tin_bai']):\n",
        "    print(f\"Processing article {index + 1}/{len(df_cleaned)}\")\n",
        "\n",
        "    description_from_meta = \"\"\n",
        "    paragraph = \"\"\n",
        "    article_text = \"\"\n",
        "\n",
        "    # try:\n",
        "    #     description_from_meta = get_description_from_meta(link_tin_bai)\n",
        "    # except:\n",
        "    #     description_from_meta = \"\"\n",
        "\n",
        "    try:\n",
        "        paragraph = get_paragraphs(link_tin_bai)\n",
        "        article_text = paragraph\n",
        "    except:\n",
        "        paragraph = \"\"\n",
        "        article_text = \"\"\n",
        "\n",
        "    # if description_from_meta != None and paragraph != None:\n",
        "    #     article_text = description_from_meta + '. ' + paragraph\n",
        "    # elif description_from_meta == \"\" or description_from_meta == None:\n",
        "    #     article_text = paragraph\n",
        "    #     print(\"No description link: \" + link_tin_bai)\n",
        "    if paragraph == \"\" or paragraph == None:\n",
        "        # article_text = description_from_meta\n",
        "        print(\"No paragraph in link: \" + link_tin_bai)\n",
        "        article_text = \"\"\n",
        "    try:\n",
        "        article_text = preprocess_text(article_text)\n",
        "    except:\n",
        "        article_text = ''\n",
        "\n",
        "    if article_text != '':\n",
        "        # Assign the fetched text content to the corresponding row in the new column\n",
        "        df_cleaned.at[index, 'Noi_dung_tin_bai'] = article_text\n",
        "\n",
        "    # Increment the count of records processed\n",
        "    records_processed += 1\n",
        "\n",
        "    # Check if the batch limit is reached\n",
        "    if records_processed % batch_limit == 0:\n",
        "        name_csv =  f\"{path_output_folder}{records_processed}_noidung_tinbai.csv\"\n",
        "        df_cleaned.to_csv(name_csv, index=False, encoding='utf-8')\n",
        "        print(f\"{name_csv} has been created.\")\n",
        "\n",
        "# Save the DataFrame to a new CSV file\n",
        "df_cleaned.to_csv(name_csv, index=False, encoding='utf-8')\n",
        "df_cleaned.to_excel(f\"{path_output_folder}{records_processed}_noidung_tinbai.xlsx\", index = False)"
      ]
    }
  ],
  "metadata": {
    "accelerator": "GPU",
    "colab": {
      "gpuType": "T4",
      "provenance": []
    },
    "kernelspec": {
      "display_name": "Python 3",
      "name": "python3"
    }
  },
  "nbformat": 4,
  "nbformat_minor": 0
}